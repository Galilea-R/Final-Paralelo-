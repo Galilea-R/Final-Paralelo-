{
 "cells": [
  {
   "cell_type": "code",
   "execution_count": 3,
   "metadata": {},
   "outputs": [
    {
     "ename": "FileNotFoundError",
     "evalue": "[Errno 2] No such file or directory: '/home/sebastian/materias/Computo_paralelo/proyecto-final/data/data'",
     "output_type": "error",
     "traceback": [
      "\u001b[0;31m---------------------------------------------------------------------------\u001b[0m",
      "\u001b[0;31mFileNotFoundError\u001b[0m                         Traceback (most recent call last)",
      "Cell \u001b[0;32mIn[3], line 14\u001b[0m\n\u001b[1;32m     12\u001b[0m \u001b[38;5;28;01mif\u001b[39;00m \u001b[38;5;18m__name__\u001b[39m \u001b[38;5;241m==\u001b[39m \u001b[38;5;124m\"\u001b[39m\u001b[38;5;124m__main__\u001b[39m\u001b[38;5;124m\"\u001b[39m:\n\u001b[1;32m     13\u001b[0m     directorio_actual \u001b[38;5;241m=\u001b[39m os\u001b[38;5;241m.\u001b[39mgetcwd()\n\u001b[0;32m---> 14\u001b[0m     \u001b[43mos\u001b[49m\u001b[38;5;241;43m.\u001b[39;49m\u001b[43mchdir\u001b[49m\u001b[43m(\u001b[49m\u001b[38;5;124;43mf\u001b[39;49m\u001b[38;5;124;43m'\u001b[39;49m\u001b[38;5;132;43;01m{\u001b[39;49;00m\u001b[43mdirectorio_actual\u001b[49m\u001b[38;5;132;43;01m}\u001b[39;49;00m\u001b[38;5;124;43m/data\u001b[39;49m\u001b[38;5;124;43m'\u001b[39;49m\u001b[43m)\u001b[49m\n\u001b[1;32m     16\u001b[0m     \u001b[38;5;66;03m# Carga los resultados CSV en DataFrames de pandas\u001b[39;00m\n\u001b[1;32m     17\u001b[0m     df1 \u001b[38;5;241m=\u001b[39m pd\u001b[38;5;241m.\u001b[39mread_csv(\u001b[38;5;124m\"\u001b[39m\u001b[38;5;124mtiempo_paralelo.csv\u001b[39m\u001b[38;5;124m\"\u001b[39m)\n",
      "\u001b[0;31mFileNotFoundError\u001b[0m: [Errno 2] No such file or directory: '/home/sebastian/materias/Computo_paralelo/proyecto-final/data/data'"
     ]
    }
   ],
   "source": [
    "import sys\n",
    "import os\n",
    "import matplotlib.pyplot as plt\n",
    "import pandas as pd\n",
    "\n",
    "def procesar_archivo(nombre_archivo):\n",
    "    with open(nombre_archivo, 'r') as archivo:\n",
    "        primera_linea = archivo.readline()\n",
    "        numero = float(primera_linea.strip())\n",
    "    return numero\n",
    "\n",
    "if __name__ == \"__main__\":\n",
    "    directorio_actual = os.getcwd()\n",
    "    os.chdir(f'{directorio_actual}/data')\n",
    "    \n",
    "    # Carga los resultados CSV en DataFrames de pandas\n",
    "    df1 = pd.read_csv(\"tiempo_paralelo.csv\")\n",
    "    df2 = pd.read_csv(\"tiempo_serial.csv\")\n",
    "    iguales = df1.equals(df2)\n",
    "    if iguales:\n",
    "        print(\"Los resultados son iguales.\")\n",
    "    else:\n",
    "        print(\"Los resultados son diferentes.\")\n",
    "    \n",
    "    # Graficamos\n",
    "    nombre_archivo_serial = 'tiempo_serial.csv'\n",
    "    nombre_archivo_paralelo = 'tiempo_paralelo.csv'\n",
    "    resultado_serial = procesar_archivo(nombre_archivo_serial)\n",
    "    resultado_paralelo = procesar_archivo(nombre_archivo_paralelo)\n",
    "    valores = [resultado_serial, resultado_paralelo]\n",
    "    nombres = ['Serial', 'Paralelo']\n",
    "    fig, ax = plt.subplots()\n",
    "    ax.bar(nombres, valores, color=['#17becf', '#ff7f7f'])\n",
    "    ax.text(0.9, 0.9, \"El Speed-up fue de: \\n\"+str(resultado_serial/resultado_paralelo),\n",
    "             fontsize=9,transform=ax.transAxes,horizontalalignment='right', verticalalignment='top')\n",
    "    ax.set_title('Serial vs paralelo: tiempo cuenta palabras')\n",
    "    ax.set_xlabel('Tipo ejecución')\n",
    "    ax.set_ylabel('Tiempo en segundos')\n",
    "    # mostrar el gráfico\n",
    "    plt.show()"
   ]
  },
  {
   "cell_type": "code",
   "execution_count": null,
   "metadata": {},
   "outputs": [],
   "source": []
  }
 ],
 "metadata": {
  "kernelspec": {
   "display_name": "envML",
   "language": "python",
   "name": "python3"
  },
  "language_info": {
   "codemirror_mode": {
    "name": "ipython",
    "version": 3
   },
   "file_extension": ".py",
   "mimetype": "text/x-python",
   "name": "python",
   "nbconvert_exporter": "python",
   "pygments_lexer": "ipython3",
   "version": "3.12.1"
  }
 },
 "nbformat": 4,
 "nbformat_minor": 2
}
